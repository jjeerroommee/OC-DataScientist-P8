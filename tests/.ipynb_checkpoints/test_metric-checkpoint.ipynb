{
 "cells": [
  {
   "cell_type": "code",
   "execution_count": 1,
   "id": "a265b0e5-3f80-43bf-9c07-994f2a695d2e",
   "metadata": {},
   "outputs": [],
   "source": [
    "import sys\n",
    "import os\n",
    "from functions import api_functions"
   ]
  },
  {
   "cell_type": "code",
   "execution_count": 16,
   "id": "ed228b0b-bd04-4135-9ebf-b152fa27772a",
   "metadata": {},
   "outputs": [],
   "source": [
    "def test_metric_used():\n",
    "\n",
    "    # charge le modèle utilisé par l'API\n",
    "    sys.path.append('..')\n",
    "    print(sys.path)\n",
    "    from app import load_model\n",
    "    model = load_model('../models')\n",
    "    \n",
    "    # vérifier que le modèle a été optimisé par rapport à la métrique 'bank_loss'\n",
    "    metric = model.get_params()['metric']\n",
    "    assert metric == 'bank_loss'"
   ]
  },
  {
   "cell_type": "code",
   "execution_count": 17,
   "id": "94314e5b-2cef-44a3-b3b9-a586aecb1d9b",
   "metadata": {},
   "outputs": [
    {
     "name": "stdout",
     "output_type": "stream",
     "text": [
      "['C:\\\\Applications\\\\Git\\\\OC-DataScientist-P7\\\\tests', 'C:\\\\Applications\\\\Anaconda\\\\python311.zip', 'C:\\\\Applications\\\\Anaconda\\\\DLLs', 'C:\\\\Applications\\\\Anaconda\\\\Lib', 'C:\\\\Applications\\\\Anaconda', '', 'C:\\\\Users\\\\DTCB8049\\\\AppData\\\\Roaming\\\\Python\\\\Python311\\\\site-packages', 'C:\\\\Applications\\\\Anaconda\\\\Lib\\\\site-packages', 'C:\\\\Applications\\\\Anaconda\\\\Lib\\\\site-packages\\\\win32', 'C:\\\\Applications\\\\Anaconda\\\\Lib\\\\site-packages\\\\win32\\\\lib', 'C:\\\\Applications\\\\Anaconda\\\\Lib\\\\site-packages\\\\Pythonwin', '..', '..', '..', '..', '..', '..', '..', '..']\n"
     ]
    }
   ],
   "source": [
    "test_metric_used()"
   ]
  },
  {
   "cell_type": "code",
   "execution_count": 23,
   "id": "898606cd-6f45-4336-a43e-56096eeca85e",
   "metadata": {},
   "outputs": [],
   "source": [
    "from functions import api_functions"
   ]
  },
  {
   "cell_type": "code",
   "execution_count": 29,
   "id": "bfb94c3b-4d54-4905-a6e6-f9595cf9028c",
   "metadata": {},
   "outputs": [],
   "source": [
    "def test_metric_used2():\n",
    "\n",
    "    # charge le modèle utilisé par l'API\n",
    "    model = api_functions.load_model('../models')\n",
    "    \n",
    "    # vérifie que le modèle a été optimisé par rapport à la métrique 'bank_loss'\n",
    "    metric = model.get_params()['metric']\n",
    "    assert metric == 'bank_loss'"
   ]
  },
  {
   "cell_type": "code",
   "execution_count": 30,
   "id": "94bcfe0d-5722-4dce-b295-39ee4e48e46f",
   "metadata": {},
   "outputs": [],
   "source": [
    "test_metric_used2()"
   ]
  }
 ],
 "metadata": {
  "kernelspec": {
   "display_name": "Python 3 (ipykernel)",
   "language": "python",
   "name": "python3"
  },
  "language_info": {
   "codemirror_mode": {
    "name": "ipython",
    "version": 3
   },
   "file_extension": ".py",
   "mimetype": "text/x-python",
   "name": "python",
   "nbconvert_exporter": "python",
   "pygments_lexer": "ipython3",
   "version": "3.11.7"
  }
 },
 "nbformat": 4,
 "nbformat_minor": 5
}
