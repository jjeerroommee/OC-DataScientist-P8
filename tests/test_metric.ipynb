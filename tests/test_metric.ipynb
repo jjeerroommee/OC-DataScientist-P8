{
 "cells": [
  {
   "cell_type": "code",
   "execution_count": 1,
   "id": "a265b0e5-3f80-43bf-9c07-994f2a695d2e",
   "metadata": {},
   "outputs": [
    {
     "ename": "ModuleNotFoundError",
     "evalue": "No module named 'functions'",
     "output_type": "error",
     "traceback": [
      "\u001b[1;31m---------------------------------------------------------------------------\u001b[0m",
      "\u001b[1;31mModuleNotFoundError\u001b[0m                       Traceback (most recent call last)",
      "Cell \u001b[1;32mIn[1], line 3\u001b[0m\n\u001b[0;32m      1\u001b[0m \u001b[38;5;28;01mimport\u001b[39;00m \u001b[38;5;21;01msys\u001b[39;00m\n\u001b[0;32m      2\u001b[0m \u001b[38;5;28;01mimport\u001b[39;00m \u001b[38;5;21;01mos\u001b[39;00m\n\u001b[1;32m----> 3\u001b[0m \u001b[38;5;28;01mfrom\u001b[39;00m \u001b[38;5;21;01mfunctions\u001b[39;00m \u001b[38;5;28;01mimport\u001b[39;00m api_functions\n",
      "\u001b[1;31mModuleNotFoundError\u001b[0m: No module named 'functions'"
     ]
    }
   ],
   "source": [
    "import sys\n",
    "import os\n",
    "from functions import api_functions"
   ]
  },
  {
   "cell_type": "markdown",
   "id": "f7a1c12b-b4d9-485f-9174-dc5679944021",
   "metadata": {},
   "source": [
    "def test_metric_used():\n",
    "\n",
    "    # charge le modèle utilisé par l'API\n",
    "    sys.path.append('..')\n",
    "    print(sys.path)\n",
    "    from app import load_model\n",
    "    model = load_model('../models')\n",
    "    \n",
    "    # vérifier que le modèle a été optimisé par rapport à la métrique 'bank_loss'\n",
    "    metric = model.get_params()['metric']\n",
    "    assert metric == 'bank_loss'"
   ]
  },
  {
   "cell_type": "code",
   "execution_count": 29,
   "id": "bfb94c3b-4d54-4905-a6e6-f9595cf9028c",
   "metadata": {},
   "outputs": [],
   "source": [
    "def test_metric_used2():\n",
    "\n",
    "    # charge le modèle utilisé par l'API\n",
    "    model = api_functions.load_model('../models')\n",
    "    \n",
    "    # vérifie que le modèle a été optimisé par rapport à la métrique 'bank_loss'\n",
    "    metric = model.get_params()['metric']\n",
    "    assert metric == 'bank_loss'"
   ]
  },
  {
   "cell_type": "code",
   "execution_count": 30,
   "id": "94bcfe0d-5722-4dce-b295-39ee4e48e46f",
   "metadata": {},
   "outputs": [],
   "source": [
    "test_metric_used2()"
   ]
  },
  {
   "cell_type": "code",
   "execution_count": 3,
   "id": "c64bb489-aace-41b9-923d-968929dfe92f",
   "metadata": {},
   "outputs": [
    {
     "ename": "ModuleNotFoundError",
     "evalue": "No module named '.'",
     "output_type": "error",
     "traceback": [
      "\u001b[1;31m---------------------------------------------------------------------------\u001b[0m",
      "\u001b[1;31mModuleNotFoundError\u001b[0m                       Traceback (most recent call last)",
      "Cell \u001b[1;32mIn[3], line 1\u001b[0m\n\u001b[1;32m----> 1\u001b[0m target \u001b[38;5;241m=\u001b[39m \u001b[38;5;28m__import__\u001b[39m(\u001b[38;5;124m\"\u001b[39m\u001b[38;5;124m../functions.py\u001b[39m\u001b[38;5;124m\"\u001b[39m)\n",
      "\u001b[1;31mModuleNotFoundError\u001b[0m: No module named '.'"
     ]
    }
   ],
   "source": [
    "target = __import__(\"../functions.py\")"
   ]
  },
  {
   "cell_type": "code",
   "execution_count": 6,
   "id": "4de39b34-71c5-45e7-b9a3-00a7c22d7f1f",
   "metadata": {},
   "outputs": [],
   "source": [
    "sys.path.append('../functions')"
   ]
  },
  {
   "cell_type": "code",
   "execution_count": 8,
   "id": "77798809-e0a7-4760-bdd5-370eab8683c5",
   "metadata": {},
   "outputs": [],
   "source": [
    "from my_functions import load_model"
   ]
  },
  {
   "cell_type": "code",
   "execution_count": null,
   "id": "caa21fbe-c7b0-4b04-b00f-008b17f058d1",
   "metadata": {},
   "outputs": [],
   "source": []
  }
 ],
 "metadata": {
  "kernelspec": {
   "display_name": "Python 3 (ipykernel)",
   "language": "python",
   "name": "python3"
  },
  "language_info": {
   "codemirror_mode": {
    "name": "ipython",
    "version": 3
   },
   "file_extension": ".py",
   "mimetype": "text/x-python",
   "name": "python",
   "nbconvert_exporter": "python",
   "pygments_lexer": "ipython3",
   "version": "3.11.7"
  }
 },
 "nbformat": 4,
 "nbformat_minor": 5
}
